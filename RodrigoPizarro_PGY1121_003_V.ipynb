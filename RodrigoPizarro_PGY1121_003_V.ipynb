{
  "nbformat": 4,
  "nbformat_minor": 0,
  "metadata": {
    "colab": {
      "provenance": []
    },
    "kernelspec": {
      "name": "python3",
      "display_name": "Python 3"
    },
    "language_info": {
      "name": "python"
    }
  },
  "cells": [
    {
      "cell_type": "code",
      "source": [
        "import numpy as np\n",
        "#Variables\n",
        "\n",
        "filas = 10\n",
        "columnas = 10\n",
        "matriz_entradas = [['' for _ in range(columnas)] for _ in range(filas)]\n",
        "precios = {\"Platinum\": 120000, \"Gold\": 80000, \"Silver\": 50000}\n",
        "asistentes = {}\n",
        "\n"
      ],
      "metadata": {
        "id": "fYEM1haNTIdY"
      },
      "execution_count": 59,
      "outputs": []
    },
    {
      "cell_type": "code",
      "source": [
        "global filas,columnas,matriz_entradas,precios,asistentes,ubicacion\n",
        "# Funcion Menu\n",
        "def mostrar_menu():\n",
        "    print(\"***** Menu Principal *****\")\n",
        "    print(\"1. Comprar entradas\")\n",
        "    print(\"2. Mostrar asientos disponibles\")\n",
        "    print(\"3. Ver listado de asistentes\")\n",
        "    print(\"4. Mostrar ganancias totales\")\n",
        "    print(\"5. Salir\")\n",
        "\n",
        "# Funcion para mostrar ubicaciones\n",
        "def imprimir_matriz():\n",
        "    print(\"Ubicaciones disponibles:\")\n",
        "    for i in range(filas):\n",
        "        for j in range(columnas):\n",
        "            if matriz_entradas[i][j] == '':\n",
        "                print(f\"Asiento {i*columnas + j + 1}: Disponible\")\n",
        "            else:\n",
        "                print(f\"Asiento {i*columnas + j + 1}: Vendido\")\n",
        "\n",
        "# Funcion para comprar\n",
        "def comprar_entradas():\n",
        "    cantidad = int(input(\"Ingrese la cantidad de entradas a comprar (entre 1 y 3): \"))\n",
        "    if cantidad < 1 or cantidad > 3:\n",
        "        print(\"La cantidad ingresada es invalida.\")\n",
        "        return\n",
        "\n",
        "    imprimir_matriz()\n",
        "\n",
        "    for _ in range(cantidad):\n",
        "        ubicacion = int(input(\"Seleccione una ubicación: \"))\n",
        "        fila = (ubicacion - 1) // columnas\n",
        "        columna = (ubicacion - 1) % columnas\n",
        "\n",
        "        if matriz_entradas[fila][columna] != '':\n",
        "            print(\"Asiento no disponible. Seleccione otro.\")\n",
        "        else:\n",
        "            matriz_entradas[fila][columna] = 'X'\n",
        "\n",
        "            tipo_entrada = ''\n",
        "            if ubicacion <= 20:\n",
        "                tipo_entrada = 'Platinum'\n",
        "            elif ubicacion <= 50:\n",
        "                tipo_entrada = 'Gold'\n",
        "            else:\n",
        "                tipo_entrada = 'Silver'\n",
        "            asistentes[input(\"Ingrese el RUN del asistente: \")] = tipo_entrada\n",
        "\n",
        "    print(\"La operación se ha realizado correctamente.\")\n",
        "\n",
        "# Funcion para mostrar asientos disponibles\n",
        "def mostrar_ubicaciones_disponibles():\n",
        "    imprimir_matriz()\n",
        "\n",
        "# Funcion para mostrar asientos comprados\n",
        "def mostrar_listado_asistentes():\n",
        "    print(\"Listado de asistentes:\")\n",
        "    for run, ubicacion in sorted(asistentes.items()):\n",
        "        print(f\"RUN: {run}, Ubicación: {ubicacion}\")\n",
        "\n",
        "#Funcion Salir\n",
        "def salir():\n",
        "  import datetime\n",
        "  fecha_actual = datetime.datetime.now().strftime(\"%Y-%m-%d %H:%M:%S\")\n",
        "  print(f\"Gracias por usar mi aplicacion. Salida del sistema. Rodrigo Pizarro - {fecha_actual}\")\n",
        "\n",
        "# Funcion para mostrar total de entradas vendidas\n",
        "def mostrar_ganancias_totales():\n",
        "    global filas,columnas,matriz_entradas,precios,asistentes,ubicacion\n",
        "    total_ganancias = 0\n",
        "    print(\"Ganancias totales:\")\n",
        "    print(\"Tipo Entrada\\tCantidad\\tTotal\")\n",
        "    for tipo_entrada, precio in precios.items():\n",
        "        cantidad = sum(0 for fila in matriz_entradas for asiento in fila if asiento == 'X' and tipo_entrada in asistentes[ubicacion] for ubicacion in asistentes)\n",
        "        subtotal = cantidad * precio\n",
        "        print(f\"{tipo_entrada}\\t\\t{cantidad}\\t\\t{subtotal}\")\n",
        "        total_ganancias += subtotal\n",
        "    print(f\"TOTAL\\t\\t\\t{len([asiento for fila in matriz_entradas for asiento in fila if asiento == 'X'])}\\t\\t{total_ganancias}\")\n",
        "\n",
        "# Funcion principal del programa\n",
        "def main():\n",
        "    while True:\n",
        "        mostrar_menu()\n",
        "        opcion = input(\"Ingrese una opcion: \")\n",
        "        if opcion == \"1\":\n",
        "            comprar_entradas()\n",
        "        elif opcion == \"2\":\n",
        "            mostrar_ubicaciones_disponibles()\n",
        "        elif opcion == \"3\":\n",
        "            mostrar_listado_asistentes()\n",
        "        elif opcion == \"4\":\n",
        "            mostrar_ganancias_totales()\n",
        "        elif opcion == \"5\":\n",
        "            salir()\n",
        "            break\n",
        "        else:\n",
        "            print(\"Opcion invalida. Ingrese nuevamente.\")\n",
        "\n",
        "# Inicio programa\n",
        "main()\n"
      ],
      "metadata": {
        "id": "UxM6TiZgiIuX"
      },
      "execution_count": null,
      "outputs": []
    },
    {
      "cell_type": "code",
      "source": [
        "print(matriz_entradas)"
      ],
      "metadata": {
        "id": "yNbhqP2CwtC7"
      },
      "execution_count": null,
      "outputs": []
    }
  ]
}